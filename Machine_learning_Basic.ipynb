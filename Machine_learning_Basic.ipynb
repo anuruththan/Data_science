{
  "nbformat": 4,
  "nbformat_minor": 0,
  "metadata": {
    "colab": {
      "provenance": [],
      "authorship_tag": "ABX9TyNWGsfsStXKP4ku4mGidcoh",
      "include_colab_link": true
    },
    "kernelspec": {
      "name": "python3",
      "display_name": "Python 3"
    },
    "language_info": {
      "name": "python"
    }
  },
  "cells": [
    {
      "cell_type": "markdown",
      "metadata": {
        "id": "view-in-github",
        "colab_type": "text"
      },
      "source": [
        "<a href=\"https://colab.research.google.com/github/anuruththan/Data_science/blob/main/Machine_learning_Basic.ipynb\" target=\"_parent\"><img src=\"https://colab.research.google.com/assets/colab-badge.svg\" alt=\"Open In Colab\"/></a>"
      ]
    },
    {
      "cell_type": "markdown",
      "source": [
        "# Machine learning"
      ],
      "metadata": {
        "id": "sJsv7GDW38LU"
      }
    },
    {
      "cell_type": "markdown",
      "source": [
        "### Python packages going to use\n",
        "- Pandas\n",
        "- numpy\n",
        "- matplotlib\n",
        "- scikit-learn\n"
      ],
      "metadata": {
        "id": "00NCgmYa4AJy"
      }
    },
    {
      "cell_type": "markdown",
      "source": [
        "#### Techniques used in machine learning\n",
        "- Logistic Regreestion\n",
        "- Decision tree\n",
        "- Random Forests\n",
        "- Neural networks"
      ],
      "metadata": {
        "id": "Ea4_ptku61Fb"
      }
    },
    {
      "cell_type": "code",
      "execution_count": 1,
      "metadata": {
        "colab": {
          "base_uri": "https://localhost:8080/"
        },
        "id": "N80OmC0p319U",
        "outputId": "30cacfbb-d20d-4551-b399-609c1276f86c"
      },
      "outputs": [
        {
          "output_type": "stream",
          "name": "stdout",
          "text": [
            "mean: 23.0\n",
            "median: 22.0\n",
            "50th percentile (median): 22.0\n",
            "25th percentile: 18.0\n",
            "75th percentile: 29.0\n",
            "standard deviation: 6.342099196813483\n",
            "variance: 40.22222222222222\n"
          ]
        }
      ],
      "source": [
        "import numpy as np #np is used for manipulating arrays also\n",
        "\n",
        "data = [15, 16, 18, 19, 22, 24, 29, 30, 34]\n",
        "\n",
        "print(\"mean:\", np.mean(data))\n",
        "print(\"median:\", np.median(data))\n",
        "print(\"50th percentile (median):\", np.percentile(data, 50))\n",
        "print(\"25th percentile:\", np.percentile(data, 25))\n",
        "print(\"75th percentile:\", np.percentile(data, 75))\n",
        "print(\"standard deviation:\", np.std(data))\n",
        "print(\"variance:\", np.var(data))"
      ]
    },
    {
      "cell_type": "markdown",
      "source": [
        "##### Pandas"
      ],
      "metadata": {
        "id": "VYDehomq824-"
      }
    },
    {
      "cell_type": "code",
      "source": [],
      "metadata": {
        "id": "BmSNRIl-8lca"
      },
      "execution_count": null,
      "outputs": []
    }
  ]
}