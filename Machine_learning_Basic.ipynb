{
  "nbformat": 4,
  "nbformat_minor": 0,
  "metadata": {
    "colab": {
      "provenance": [],
      "authorship_tag": "ABX9TyOsn/zmLmWaKiSE8io1kyfW",
      "include_colab_link": true
    },
    "kernelspec": {
      "name": "python3",
      "display_name": "Python 3"
    },
    "language_info": {
      "name": "python"
    }
  },
  "cells": [
    {
      "cell_type": "markdown",
      "metadata": {
        "id": "view-in-github",
        "colab_type": "text"
      },
      "source": [
        "<a href=\"https://colab.research.google.com/github/anuruththan/Data_science/blob/main/Machine_learning_Basic.ipynb\" target=\"_parent\"><img src=\"https://colab.research.google.com/assets/colab-badge.svg\" alt=\"Open In Colab\"/></a>"
      ]
    },
    {
      "cell_type": "markdown",
      "source": [
        "# Machine learning"
      ],
      "metadata": {
        "id": "sJsv7GDW38LU"
      }
    },
    {
      "cell_type": "markdown",
      "source": [
        "### Python packages going to use\n",
        "- Pandas\n",
        "- numpy\n",
        "- matplotlib\n",
        "- scikit-learn\n"
      ],
      "metadata": {
        "id": "00NCgmYa4AJy"
      }
    },
    {
      "cell_type": "markdown",
      "source": [
        "#### Techniques used in machine learning\n",
        "- Logistic Regreestion\n",
        "- Decision tree\n",
        "- Random Forests\n",
        "- Neural networks"
      ],
      "metadata": {
        "id": "Ea4_ptku61Fb"
      }
    },
    {
      "cell_type": "code",
      "execution_count": null,
      "metadata": {
        "colab": {
          "base_uri": "https://localhost:8080/"
        },
        "id": "N80OmC0p319U",
        "outputId": "30cacfbb-d20d-4551-b399-609c1276f86c"
      },
      "outputs": [
        {
          "output_type": "stream",
          "name": "stdout",
          "text": [
            "mean: 23.0\n",
            "median: 22.0\n",
            "50th percentile (median): 22.0\n",
            "25th percentile: 18.0\n",
            "75th percentile: 29.0\n",
            "standard deviation: 6.342099196813483\n",
            "variance: 40.22222222222222\n"
          ]
        }
      ],
      "source": [
        "import numpy as np #np is used for manipulating arrays also\n",
        "\n",
        "data = [15, 16, 18, 19, 22, 24, 29, 30, 34]\n",
        "\n",
        "print(\"mean:\", np.mean(data))\n",
        "print(\"median:\", np.median(data))\n",
        "print(\"50th percentile (median):\", np.percentile(data, 50))\n",
        "print(\"25th percentile:\", np.percentile(data, 25))\n",
        "print(\"75th percentile:\", np.percentile(data, 75))\n",
        "print(\"standard deviation:\", np.std(data))\n",
        "print(\"variance:\", np.var(data))"
      ]
    },
    {
      "cell_type": "markdown",
      "source": [
        "##### Pandas"
      ],
      "metadata": {
        "id": "VYDehomq824-"
      }
    },
    {
      "cell_type": "code",
      "source": [
        "import pandas as pd\n",
        "df = pd.read_csv('https://sololearn.com/uploads/files/titanic.csv')\n",
        "\n",
        "print(df.head())# Printing the first five element of the data set\n",
        "\n",
        "#data = pd.DataFrame(df)#DataFrames are designed to store structured data efficiently. They organize data into rows and columns, making it easy to represent and work with tabular data, such as datasets from spreadsheets, CSV files, or databases.\n",
        "print(df.describe())"
      ],
      "metadata": {
        "id": "BmSNRIl-8lca",
        "colab": {
          "base_uri": "https://localhost:8080/"
        },
        "outputId": "c3ff77c8-2056-4498-fe5e-40981130d7bb"
      },
      "execution_count": null,
      "outputs": [
        {
          "output_type": "stream",
          "name": "stdout",
          "text": [
            "   Survived  Pclass     Sex   Age  Siblings/Spouses  Parents/Children     Fare\n",
            "0         0       3    male  22.0                 1                 0   7.2500\n",
            "1         1       1  female  38.0                 1                 0  71.2833\n",
            "2         1       3  female  26.0                 0                 0   7.9250\n",
            "3         1       1  female  35.0                 1                 0  53.1000\n",
            "4         0       3    male  35.0                 0                 0   8.0500\n",
            "         Survived      Pclass         Age  Siblings/Spouses  Parents/Children  \\\n",
            "count  887.000000  887.000000  887.000000        887.000000        887.000000   \n",
            "mean     0.385569    2.305524   29.471443          0.525366          0.383315   \n",
            "std      0.487004    0.836662   14.121908          1.104669          0.807466   \n",
            "min      0.000000    1.000000    0.420000          0.000000          0.000000   \n",
            "25%      0.000000    2.000000   20.250000          0.000000          0.000000   \n",
            "50%      0.000000    3.000000   28.000000          0.000000          0.000000   \n",
            "75%      1.000000    3.000000   38.000000          1.000000          0.000000   \n",
            "max      1.000000    3.000000   80.000000          8.000000          6.000000   \n",
            "\n",
            "            Fare  \n",
            "count  887.00000  \n",
            "mean    32.30542  \n",
            "std     49.78204  \n",
            "min      0.00000  \n",
            "25%      7.92500  \n",
            "50%     14.45420  \n",
            "75%     31.13750  \n",
            "max    512.32920  \n"
          ]
        }
      ]
    },
    {
      "cell_type": "code",
      "source": [
        "#Selecting a single column\n",
        "import pandas as pd\n",
        "df = pd.read_csv('https://sololearn.com/uploads/files/titanic.csv')\n",
        "col = df['Fare']\n",
        "print(col)"
      ],
      "metadata": {
        "colab": {
          "base_uri": "https://localhost:8080/"
        },
        "id": "A5sRdk0l_VGx",
        "outputId": "0efc473d-a527-4d27-e476-287b2515fb41"
      },
      "execution_count": null,
      "outputs": [
        {
          "output_type": "stream",
          "name": "stdout",
          "text": [
            "0       7.2500\n",
            "1      71.2833\n",
            "2       7.9250\n",
            "3      53.1000\n",
            "4       8.0500\n",
            "        ...   \n",
            "882    13.0000\n",
            "883    30.0000\n",
            "884    23.4500\n",
            "885    30.0000\n",
            "886     7.7500\n",
            "Name: Fare, Length: 887, dtype: float64\n"
          ]
        }
      ]
    },
    {
      "cell_type": "code",
      "source": [
        "# Checking the true data\n",
        "import pandas as pd\n",
        "df = pd.read_csv('https://sololearn.com/uploads/files/titanic.csv')\n",
        "df['male'] = df['Sex'] == 'male'\n",
        "print(df.head())"
      ],
      "metadata": {
        "colab": {
          "base_uri": "https://localhost:8080/"
        },
        "id": "C35E5QQ9_dAQ",
        "outputId": "f1d1b8f8-b5cd-4680-f250-2a7b282e79ab"
      },
      "execution_count": null,
      "outputs": [
        {
          "output_type": "stream",
          "name": "stdout",
          "text": [
            "   Survived  Pclass     Sex  ...  Parents/Children     Fare   male\n",
            "0         0       3    male  ...                 0   7.2500   True\n",
            "1         1       1  female  ...                 0  71.2833  False\n",
            "2         1       3  female  ...                 0   7.9250  False\n",
            "3         1       1  female  ...                 0  53.1000  False\n",
            "4         0       3    male  ...                 0   8.0500   True\n",
            "\n",
            "[5 rows x 8 columns]\n"
          ]
        }
      ]
    },
    {
      "cell_type": "code",
      "source": [
        "import pandas as pd\n",
        "df = pd.read_csv('https://sololearn.com/uploads/files/titanic.csv')\n",
        "arr = df[['Pclass', 'Fare', 'Age']].values\n",
        "print(arr,\"\\n\")\n",
        "print(arr.shape)"
      ],
      "metadata": {
        "colab": {
          "base_uri": "https://localhost:8080/"
        },
        "id": "uYSv9jWoAS1Z",
        "outputId": "7aa30a5e-f003-4b65-d59b-335292f8d6d3"
      },
      "execution_count": null,
      "outputs": [
        {
          "output_type": "stream",
          "name": "stdout",
          "text": [
            "[[ 3.      7.25   22.    ]\n",
            " [ 1.     71.2833 38.    ]\n",
            " [ 3.      7.925  26.    ]\n",
            " ...\n",
            " [ 3.     23.45    7.    ]\n",
            " [ 1.     30.     26.    ]\n",
            " [ 3.      7.75   32.    ]] \n",
            "\n",
            "(887, 3)\n"
          ]
        }
      ]
    },
    {
      "cell_type": "markdown",
      "source": [
        "###### Masking"
      ],
      "metadata": {
        "id": "SJDp2FU9kV3E"
      }
    },
    {
      "cell_type": "code",
      "source": [
        "import pandas as pd\n",
        "\n",
        "df = pd.read_csv('https://sololearn.com/uploads/files/titanic.csv')\n",
        "# take first 10 values for simplicity\n",
        "arr = df[['Pclass', 'Fare', 'Age']].values[:10]\n",
        "\n",
        "mask = arr[:, 2] < 18\n",
        "print(arr[mask],\"\\n\\n\")\n",
        "print(arr[arr[:, 2] < 18])"
      ],
      "metadata": {
        "colab": {
          "base_uri": "https://localhost:8080/"
        },
        "id": "aONY273ukbYt",
        "outputId": "e0918a45-57bd-460d-85c8-1e3b291dc295"
      },
      "execution_count": 1,
      "outputs": [
        {
          "output_type": "stream",
          "name": "stdout",
          "text": [
            "[[ 3.     21.075   2.    ]\n",
            " [ 2.     30.0708 14.    ]] \n",
            "\n",
            "\n",
            "[[ 3.     21.075   2.    ]\n",
            " [ 2.     30.0708 14.    ]]\n"
          ]
        }
      ]
    },
    {
      "cell_type": "markdown",
      "source": [
        "###### Summing and countiing"
      ],
      "metadata": {
        "id": "YlLIffDikuwy"
      }
    },
    {
      "cell_type": "code",
      "source": [
        "import pandas as pd\n",
        "\n",
        "df = pd.read_csv('https://sololearn.com/uploads/files/titanic.csv')\n",
        "arr = df[['Pclass', 'Fare', 'Age']].values\n",
        "mask = arr[:, 2] < 18\n",
        "\n",
        "print(mask.sum(),\"\\n\\n\")\n",
        "\n",
        "print((arr[:, 2] < 18).sum())## Perivious step also did the same thing"
      ],
      "metadata": {
        "colab": {
          "base_uri": "https://localhost:8080/"
        },
        "id": "dFLLa_5Ikz2g",
        "outputId": "a1158abf-03bb-4b4b-b0cd-740fe5820acf"
      },
      "execution_count": 11,
      "outputs": [
        {
          "output_type": "stream",
          "name": "stdout",
          "text": [
            "130 \n",
            "\n",
            "\n",
            "130\n"
          ]
        }
      ]
    },
    {
      "cell_type": "markdown",
      "source": [
        "#### Scatter Plot & Lines"
      ],
      "metadata": {
        "id": "HnAzxq9PllCT"
      }
    },
    {
      "cell_type": "code",
      "source": [
        "import matplotlib.pyplot as plt\n",
        "\n",
        "plt.scatter(df['Fare'],df['Pclass'],c=df['Survived'])\n",
        "plt.xlabel('Fare')\n",
        "plt.ylabel('Pclass')\n",
        "plt.plot([0,400],[3,0])#rage of (x , y)\n"
      ],
      "metadata": {
        "colab": {
          "base_uri": "https://localhost:8080/",
          "height": 466
        },
        "id": "ADZ7QAhyln7s",
        "outputId": "2399118b-3ae3-4bc9-88e7-1471cc31353f"
      },
      "execution_count": 47,
      "outputs": [
        {
          "output_type": "execute_result",
          "data": {
            "text/plain": [
              "[<matplotlib.lines.Line2D at 0x7de82769f100>]"
            ]
          },
          "metadata": {},
          "execution_count": 47
        },
        {
          "output_type": "display_data",
          "data": {
            "text/plain": [
              "<Figure size 640x480 with 1 Axes>"
            ],
            "image/png": "[encoded data removed]"
          },
          "metadata": {}
        }
      ]
    },
    {
      "cell_type": "markdown",
      "source": [
        "### Machine Learning - What's in a Column?\n"
      ],
      "metadata": {
        "id": "R4nhktThuKKQ"
      }
    },
    {
      "cell_type": "markdown",
      "source": [
        "##### Getting a column from a numpy array.\n",
        "\n",
        "Task\n",
        "Given a csv file and a column name, print the elements in the given column.\n",
        "\n",
        "Input Format\n",
        "First line: filename of a csv file\n",
        "Second line: column name\n",
        "\n",
        "Output Format\n",
        "Numpy array\n",
        "\n",
        "Sample Input\n",
        "https://sololearn.com/uploads/files/one.csv\n",
        "a\n",
        "\n",
        "File one.csv contents:\n",
        "a,b\n",
        "1,3\n",
        "2,4\n",
        "\n",
        "Sample Output\n",
        "[1 2]"
      ],
      "metadata": {
        "id": "Dn6s-DtHuLnw"
      }
    },
    {
      "cell_type": "code",
      "source": [
        "filename = input()\n",
        "column_name = input()\n",
        "\n",
        "import pandas as pd\n",
        "import numpy\n",
        "\n",
        "df=pd.read_csv(filename)\n",
        "com=df[column_name].values\n",
        "print(com)\n"
      ],
      "metadata": {
        "colab": {
          "base_uri": "https://localhost:8080/"
        },
        "id": "hYfJ_5SUr-h2",
        "outputId": "382f3791-2ce8-4cab-c2b1-88bc76af5ec5"
      },
      "execution_count": 48,
      "outputs": [
        {
          "output_type": "stream",
          "name": "stdout",
          "text": [
            " https://sololearn.com/uploads/files/one.csv\n",
            "a\n",
            "[1 2]\n"
          ]
        }
      ]
    }
  ]
}