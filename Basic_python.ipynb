{
  "nbformat": 4,
  "nbformat_minor": 0,
  "metadata": {
    "colab": {
      "provenance": [],
      "authorship_tag": "ABX9TyOEZdZFHZFRr4gVB+RCS3cz",
      "include_colab_link": true
    },
    "kernelspec": {
      "name": "python3",
      "display_name": "Python 3"
    },
    "language_info": {
      "name": "python"
    }
  },
  "cells": [
    {
      "cell_type": "markdown",
      "metadata": {
        "id": "view-in-github",
        "colab_type": "text"
      },
      "source": [
        "<a href=\"https://colab.research.google.com/github/anuruththan/Data_science/blob/main/Basic_python.ipynb\" target=\"_parent\"><img src=\"https://colab.research.google.com/assets/colab-badge.svg\" alt=\"Open In Colab\"/></a>"
      ]
    },
    {
      "cell_type": "code",
      "source": [
        "for n in str:\n",
        "  print(n)"
      ],
      "metadata": {
        "colab": {
          "base_uri": "https://localhost:8080/"
        },
        "id": "RV5jXy-rVmo6",
        "outputId": "855158c0-e81b-409e-ab09-76a147e78dae"
      },
      "execution_count": null,
      "outputs": [
        {
          "output_type": "stream",
          "name": "stdout",
          "text": [
            "A\n",
            "n\n",
            "u\n",
            "r\n",
            "u\n",
            "t\n",
            "h\n",
            "t\n",
            "h\n",
            "a\n",
            "n\n"
          ]
        }
      ]
    },
    {
      "cell_type": "code",
      "source": [
        "words=[\"Hello\",\"hi\",\"how are you\"]\n",
        "print(\"hello\" in words)\n",
        "print(\"hi\" in words)"
      ],
      "metadata": {
        "colab": {
          "base_uri": "https://localhost:8080/"
        },
        "id": "NgJqPlxhbi7C",
        "outputId": "c416ef9a-632b-4aed-cbb9-4eebd169528e"
      },
      "execution_count": null,
      "outputs": [
        {
          "output_type": "stream",
          "name": "stdout",
          "text": [
            "False\n",
            "True\n"
          ]
        }
      ]
    },
    {
      "cell_type": "code",
      "source": [
        "x=[1,2,3]\n",
        "x.insert(0,4)\n",
        "x.append(10)\n",
        "print(x)\n",
        "print(x.count(3))\n",
        "x.reverse()\n",
        "print(x)\n",
        "x.sort()\n",
        "print(x)"
      ],
      "metadata": {
        "colab": {
          "base_uri": "https://localhost:8080/"
        },
        "id": "g1vcbaGtccdf",
        "outputId": "ce61693c-d2d5-47ba-a11b-cc8b20ba9881"
      },
      "execution_count": null,
      "outputs": [
        {
          "output_type": "stream",
          "name": "stdout",
          "text": [
            "[4, 1, 2, 3, 10]\n",
            "1\n",
            "[10, 3, 2, 1, 4]\n",
            "[1, 2, 3, 4, 10]\n"
          ]
        }
      ]
    },
    {
      "cell_type": "code",
      "source": [
        "squres=[i**2 for i in range(5)]\n",
        "print(squres)"
      ],
      "metadata": {
        "colab": {
          "base_uri": "https://localhost:8080/"
        },
        "id": "wPl-NtzOdLhO",
        "outputId": "b779d5d2-4fe0-4db8-922d-c240b36547dc"
      },
      "execution_count": null,
      "outputs": [
        {
          "output_type": "stream",
          "name": "stdout",
          "text": [
            "[0, 1, 4, 9, 16]\n"
          ]
        }
      ]
    },
    {
      "cell_type": "markdown",
      "source": [
        "n=int(input())\n",
        "multiplicaton=[n*(2**i) for i in range(12)]\n",
        "print(multiplicaton)"
      ],
      "metadata": {
        "id": "BrVMTTS2gGzN"
      }
    },
    {
      "cell_type": "code",
      "source": [
        "nums = (55, 44, 33, 22)\n",
        "print(max(min(nums[:2]), abs(-42)))"
      ],
      "metadata": {
        "colab": {
          "base_uri": "https://localhost:8080/"
        },
        "id": "GpShGep6jnKh",
        "outputId": "f912e2c8-f6f3-40b5-c680-05a971cd5736"
      },
      "execution_count": null,
      "outputs": [
        {
          "output_type": "stream",
          "name": "stdout",
          "text": [
            "44\n"
          ]
        }
      ]
    },
    {
      "cell_type": "markdown",
      "source": [
        "## Given a sentence as input, calculate and output the average word length of that sentence. To calculate the average word length, you need to divide the sum of all word lengths by the number of words in the sentence."
      ],
      "metadata": {
        "id": "acNpZTScl66U"
      }
    },
    {
      "cell_type": "code",
      "source": [
        "text = input()\n",
        "text_list=text.split()\n",
        "length_of_text=len(text.replace(\" \",\"\"))\n",
        "no_of_words_in_text=len(text_list)\n",
        "print(length_of_text/no_of_words_in_text)"
      ],
      "metadata": {
        "colab": {
          "base_uri": "https://localhost:8080/"
        },
        "id": "aCNX7U1KmBB-",
        "outputId": "f1e92b6b-abad-4c27-cc1d-050bf90ff007"
      },
      "execution_count": null,
      "outputs": [
        {
          "output_type": "stream",
          "name": "stdout",
          "text": [
            "hello lool\n",
            "4.5\n"
          ]
        }
      ]
    },
    {
      "cell_type": "code",
      "source": [
        "nums ={\n",
        "    1:\"One\",\n",
        "    2:\"Two\",\n",
        "    3:\"Three\"\n",
        "}\n",
        "\n",
        "print(1 in nums)\n",
        "print(\"three\" in nums)"
      ],
      "metadata": {
        "colab": {
          "base_uri": "https://localhost:8080/"
        },
        "id": "T0hWA29HZCEa",
        "outputId": "b6754d3f-dcd3-4fb5-9ca1-a9b9637df00e"
      },
      "execution_count": null,
      "outputs": [
        {
          "output_type": "stream",
          "name": "stdout",
          "text": [
            "True\n",
            "False\n"
          ]
        }
      ]
    },
    {
      "cell_type": "code",
      "source": [
        "pairs = {\n",
        "   1: \"apple\",\n",
        "   \"orange\": [2, 3, 4],\n",
        "   True: False,\n",
        "   12: \"True\",\n",
        "}\n",
        "\n",
        "print(pairs.get(\"orange\"))\n",
        "print(pairs.get(6, 42))\n",
        "print(pairs.get(12345, \"not found\"))"
      ],
      "metadata": {
        "colab": {
          "base_uri": "https://localhost:8080/"
        },
        "id": "pO-CjDpycIDz",
        "outputId": "fe282b6a-815d-4dad-f858-15dbe84ac364"
      },
      "execution_count": null,
      "outputs": [
        {
          "output_type": "stream",
          "name": "stdout",
          "text": [
            "[2, 3, 4]\n",
            "42\n",
            "not found\n"
          ]
        }
      ]
    },
    {
      "cell_type": "code",
      "source": [
        "age={\"Anuruththan\":[23,2],\n",
        "     \"Baskaran\":62,\n",
        "     \"Ananthini\":60,\n",
        "     \"Arani\":26,\n",
        "     \"Sowmiya\":24}\n",
        "\n",
        "print(age[\"Anuruththan\"][1])\n"
      ],
      "metadata": {
        "colab": {
          "base_uri": "https://localhost:8080/"
        },
        "id": "E6jeWBgrcmrw",
        "outputId": "1bdd7b47-a1d5-4fb8-f685-f4c0324a463e"
      },
      "execution_count": null,
      "outputs": [
        {
          "output_type": "stream",
          "name": "stdout",
          "text": [
            "2\n"
          ]
        }
      ]
    },
    {
      "cell_type": "markdown",
      "source": [
        "checking the details of a dictonary"
      ],
      "metadata": {
        "id": "5u1HoFzlegE0"
      }
    },
    {
      "cell_type": "code",
      "source": [
        "contacts = {\n",
        "    \"David\": [\"123-321-88\", \"david@test.com\"],\n",
        "    \"James\": [\"241-879-093\", \"james@test.com\"],\n",
        "    \"Bob\": [\"987-004-322\", \"bob@test.com\"],\n",
        "    \"Amy\": [\"340-999-213\", \"a@test.com\"]\n",
        "}\n",
        "#your code goes here\n",
        "\n",
        "name=input()\n",
        "if(name in contacts):\n",
        "    print(contacts[name][1])\n",
        "else:\n",
        "    print(\"Not found\")\n",
        "\n"
      ],
      "metadata": {
        "colab": {
          "base_uri": "https://localhost:8080/"
        },
        "id": "5lRxg91EeVS8",
        "outputId": "ad167cef-30a1-4b7b-a8a0-9d621a651f82"
      },
      "execution_count": null,
      "outputs": [
        {
          "output_type": "stream",
          "name": "stdout",
          "text": [
            "James\n",
            "james@test.com\n"
          ]
        }
      ]
    },
    {
      "cell_type": "code",
      "source": [
        "fib = {1: 1,\n",
        "       2: 1,\n",
        "       3: 2,\n",
        "       4: 3}\n",
        "print(fib.get(4, 0) + fib.get(7, 5))"
      ],
      "metadata": {
        "colab": {
          "base_uri": "https://localhost:8080/"
        },
        "id": "mFAK3TGqe-FV",
        "outputId": "6c5feb21-cd3e-4342-fad7-34e3c642dcfa"
      },
      "execution_count": null,
      "outputs": [
        {
          "output_type": "stream",
          "name": "stdout",
          "text": [
            "8\n"
          ]
        }
      ]
    },
    {
      "cell_type": "code",
      "source": [
        "dict = {\n",
        "    (\"David\", 42): \"red\",\n",
        "    (\"Bob\", 24): \"green\"\n",
        "}\n",
        "\n",
        "print(dict[(\"Bob\", 24)])"
      ],
      "metadata": {
        "colab": {
          "base_uri": "https://localhost:8080/"
        },
        "id": "xm1Tcr0-fnrI",
        "outputId": "544ff055-5288-4c2d-e7db-3a54ea95566a"
      },
      "execution_count": null,
      "outputs": [
        {
          "output_type": "stream",
          "name": "stdout",
          "text": [
            "green\n"
          ]
        }
      ]
    },
    {
      "cell_type": "code",
      "source": [
        "numbers = (1,2,3)\n",
        "a,b,c = numbers\n",
        "print(a)\n",
        "print(b)\n",
        "print(c)"
      ],
      "metadata": {
        "colab": {
          "base_uri": "https://localhost:8080/"
        },
        "id": "T0Pn__ty8uS5",
        "outputId": "4d893929-f856-4236-cc19-2a3086a48da2"
      },
      "execution_count": null,
      "outputs": [
        {
          "output_type": "stream",
          "name": "stdout",
          "text": [
            "1\n",
            "2\n",
            "3\n"
          ]
        }
      ]
    },
    {
      "cell_type": "code",
      "source": [
        "x,y=[1,2]\n",
        "x,y=y,x\n",
        "print(x,\" \",y)"
      ],
      "metadata": {
        "colab": {
          "base_uri": "https://localhost:8080/"
        },
        "id": "PnhpCmFQ86Yu",
        "outputId": "43be44b3-5974-47c8-e0d1-dcfb2a9a2b57"
      },
      "execution_count": null,
      "outputs": [
        {
          "output_type": "stream",
          "name": "stdout",
          "text": [
            "2   1\n"
          ]
        }
      ]
    },
    {
      "cell_type": "markdown",
      "source": [
        "### Tuple unpacking"
      ],
      "metadata": {
        "id": "Pzgjon4IDZhw"
      }
    },
    {
      "cell_type": "code",
      "source": [
        "#asterix\n",
        "a, b, *c, d = [1, 2, 3, 4, 5, 6, 7, 8, 9]\n",
        "print(a)\n",
        "print(b)\n",
        "print(c)\n",
        "print(d)"
      ],
      "metadata": {
        "colab": {
          "base_uri": "https://localhost:8080/"
        },
        "id": "bU0VTaFm9K27",
        "outputId": "a151b956-6779-4bf6-9798-e52ef7b42ebc"
      },
      "execution_count": null,
      "outputs": [
        {
          "output_type": "stream",
          "name": "stdout",
          "text": [
            "1\n",
            "2\n",
            "[3, 4, 5, 6, 7, 8]\n",
            "9\n"
          ]
        }
      ]
    },
    {
      "cell_type": "code",
      "source": [
        "from math import sqrt\n",
        "points = [\n",
        "    (12, 55),\n",
        "    (880, 123),\n",
        "    (64, 64),\n",
        "    (190, 1024),\n",
        "    (77, 33),\n",
        "    (42, 11),\n",
        "    (0, 90)\n",
        "]\n",
        "#your code goes here\n",
        "#Tuple unpacking a,b,c,d,e,f,g = points\n",
        "n=int\n",
        "lowest=float('inf')\n",
        "for (x,y) in points:\n",
        "    n=x**2+y**2\n",
        "    if(n<lowest):\n",
        "        lowest=n\n",
        "\n",
        "print(sqrt(lowest))\n"
      ],
      "metadata": {
        "colab": {
          "base_uri": "https://localhost:8080/"
        },
        "id": "sGv7QCD9AtBh",
        "outputId": "abf9265d-2883-4f29-db7f-89a05cf49704"
      },
      "execution_count": null,
      "outputs": [
        {
          "output_type": "stream",
          "name": "stdout",
          "text": [
            "43.41658669218482\n"
          ]
        }
      ]
    },
    {
      "cell_type": "markdown",
      "source": [
        "### Sets"
      ],
      "metadata": {
        "id": "2GejytYKDNWt"
      }
    },
    {
      "cell_type": "code",
      "source": [
        "nums = {1, 2, 1, 3, 1, 4, 5, 6}\n",
        "print(nums)\n",
        "nums.add(-7)\n",
        "nums.remove(3)\n",
        "print(nums)\n"
      ],
      "metadata": {
        "colab": {
          "base_uri": "https://localhost:8080/"
        },
        "id": "UZ_E8V7uDPeL",
        "outputId": "502ea47c-47b4-432c-eeff-2d05b553a781"
      },
      "execution_count": null,
      "outputs": [
        {
          "output_type": "stream",
          "name": "stdout",
          "text": [
            "{1, 2, 3, 4, 5, 6}\n",
            "{1, 2, 4, 5, 6, -7}\n"
          ]
        }
      ]
    },
    {
      "cell_type": "code",
      "source": [
        "'''\n",
        "Sets can be combined using mathematical operations.\n",
        "The union operator | combines two sets to form a new one containing items in either.\n",
        "The intersection operator & gets items only in both.\n",
        "The difference operator - gets items in the first set but not in the second.\n",
        "The symmetric difference operator ^ gets items in either set, but not both.\n",
        "'''\n",
        "first = {1, 2, 3, 4, 5, 6}\n",
        "second = {4, 5, 6, 7, 8, 9}\n",
        "\n",
        "print(first | second)#union\n",
        "print(first & second)#intersection\n",
        "print(first - second)#difference\n",
        "print(second - first)\n",
        "print(first ^ second)#symmetric difference\n"
      ],
      "metadata": {
        "colab": {
          "base_uri": "https://localhost:8080/"
        },
        "id": "wE0sEtfHDwYP",
        "outputId": "8c9e603e-f031-4154-e588-ee8b3813ceb0"
      },
      "execution_count": null,
      "outputs": [
        {
          "output_type": "stream",
          "name": "stdout",
          "text": [
            "{1, 2, 3, 4, 5, 6, 7, 8, 9}\n",
            "{4, 5, 6}\n",
            "{1, 2, 3}\n",
            "{8, 9, 7}\n",
            "{1, 2, 3, 7, 8, 9}\n"
          ]
        }
      ]
    },
    {
      "cell_type": "code",
      "source": [
        "# Checking the intersecting word count of given two sentences\n",
        "s1 = input()\n",
        "s2 = input()\n",
        "\n",
        "text1=s1.split()\n",
        "text2=s2.split()\n",
        "\n",
        "print(len(set(text1) & set(text2)))"
      ],
      "metadata": {
        "colab": {
          "base_uri": "https://localhost:8080/"
        },
        "id": "9bThUpp5E8Sq",
        "outputId": "cb72a78b-619f-4e7c-e231-7977527df6f3"
      },
      "execution_count": null,
      "outputs": [
        {
          "output_type": "stream",
          "name": "stdout",
          "text": [
            "I'm iron man\n",
            "I'm loki\n",
            "1\n"
          ]
        }
      ]
    },
    {
      "cell_type": "markdown",
      "source": [
        "### You are analyzing sales data from a ticket office.\n",
        "The ticket for an adult is $20, while the ticket for a child under 18 is $5.\n",
        "The data you are given is in a dictionary format, where the keys are the sold ticket numbers, and the values are the customer ages.\n",
        "For example, \"123-08\": 24 means that the ticket was bought a 24 year old.\n",
        "Your goal is to calculate how much more money the office would make if it would change the ticket discount age to the given input.\n",
        "So, your program needs to take an integer as input and output the percentage of revenue growth, if the discount was given to people under that age.\n",
        "\n",
        "For example, if the office made $15000 with the original discount age, and would make $18000 with 14 as the discount age, then the growth would be ((18000-15000)/15000)*100 = 20%\n",
        "\n",
        "So, for the input 14, your program should output 20. The output should be an integer (use int() to convert the result).\n",
        "\n",
        "level\n",
        "To iterate over the values of a dictionary, you can use the .values() function:\n",
        "for value in data.values()"
      ],
      "metadata": {
        "id": "oFsO980twXne"
      }
    },
    {
      "cell_type": "code",
      "source": [
        "data = {\n",
        "    \"100-90\": 25, \"42-01\": 48, \"55-09\": 12, \"128-64\": 71, \"002-22\": 18, \"321-54\": 19, \"097-32\": 33, \"065-135\": 64, \"99-043\": 80, \"111-99\": 11, \"123-019\": 5, \"109-890\": 72, \"132-123\": 27, \"32-908\": 27, \"008-09\": 25, \"055-967\": 35, \"897-99\": 44, \"890-98\": 56, \"344-32\": 65, \"43-955\": 59, \"001-233\": 9, \"089-111\": 15, \"090-090\": 17, \"56-777\": 23, \"44-909\": 27, \"13-111\": 21, \"87-432\": 15, \"87-433\": 14, \"87-434\": 23, \"87-435\": 11, \"87-436\": 12, \"87-437\": 16, \"94-121\": 15, \"94-122\": 35, \"80-089\": 10, \"87-456\": 8, \"87-430\": 40\n",
        "}\n",
        "age = int(input())\n",
        "#your code goes here\n",
        "\n",
        "sinna_podiyal=5\n",
        "bittu_pakkuravangal=20\n",
        "\n",
        "original_discount = sum(bittu_pakkuravangal if arr_age>=18 else sinna_podiyal for arr_age in data.values())\n",
        "\n",
        "new_discount = sum(bittu_pakkuravangal if arr_age>=age else sinna_podiyal for arr_age in data.values())\n",
        "\n",
        "print(int(((new_discount-original_discount)/original_discount)*100))"
      ],
      "metadata": {
        "colab": {
          "base_uri": "https://localhost:8080/"
        },
        "id": "VycfaZ8TJ8B4",
        "outputId": "825aa4ee-56db-4896-e1c8-eb319ac39f73"
      },
      "execution_count": null,
      "outputs": [
        {
          "output_type": "stream",
          "name": "stdout",
          "text": [
            "14\n",
            "16\n"
          ]
        }
      ]
    },
    {
      "cell_type": "markdown",
      "source": [
        "# User Define Data_Structures"
      ],
      "metadata": {
        "id": "3dpOzxpCy8wM"
      }
    },
    {
      "cell_type": "markdown",
      "source": [
        "### Some applications require additional functionality when working with data, for example, word processors have an undo-redo function, task schedulers need queuing mechanisms, maps need to find the shortest path, etc.\n",
        "In these cases we need to define our own data structures that provide the required functionality.\n",
        "\n",
        "Some of the most popular data structures are:\n",
        "- Stacks\n",
        "- Queues\n",
        "- Linked Lists\n",
        "- Graphs"
      ],
      "metadata": {
        "id": "fj8KF8cdzR-d"
      }
    },
    {
      "cell_type": "markdown",
      "source": [
        "### Stack"
      ],
      "metadata": {
        "id": "9bVQB1aUA7p4"
      }
    },
    {
      "cell_type": "code",
      "source": [
        "class Browser:\n",
        "    def __init__(self):\n",
        "      self.links = []\n",
        "\n",
        "    def is_empty(self):\n",
        "      return self.links == []\n",
        "\n",
        "    def push(self, link):\n",
        "      return self.links.insert(0, link)\n",
        "\n",
        "    def pop(self):\n",
        "      return self.links.pop(0)\n",
        "\n",
        "\n",
        "\n",
        "\n",
        "x = Browser()\n",
        "x.push('about:blank')\n",
        "x.push('www.sololearn.com')\n",
        "x.push('www.sololearn.com/courses/')\n",
        "x.push('www.sololearn.com/courses/python/')\n",
        "\n",
        "while not x.is_empty():\n",
        "    print(x.pop())"
      ],
      "metadata": {
        "colab": {
          "base_uri": "https://localhost:8080/"
        },
        "id": "nY0vkrM4F-p2",
        "outputId": "01046366-149a-432f-e325-0095a6e1f1c7"
      },
      "execution_count": null,
      "outputs": [
        {
          "output_type": "stream",
          "name": "stdout",
          "text": [
            "www.sololearn.com/courses/python/\n",
            "www.sololearn.com/courses/\n",
            "www.sololearn.com\n",
            "about:blank\n"
          ]
        }
      ]
    },
    {
      "cell_type": "markdown",
      "source": [
        "### Queue"
      ],
      "metadata": {
        "id": "56G8kkLbyz8C"
      }
    },
    {
      "cell_type": "code",
      "source": [
        "class Queue:\n",
        "  def __init__(self):\n",
        "    self.items = []\n",
        "\n",
        "  def is_empty(self):\n",
        "    return self.items == []\n",
        "\n",
        "  def enqueue(self, item):\n",
        "    self.items.insert(0, item)\n",
        "\n",
        "  def dequeue(self):\n",
        "    return self.items.pop()\n",
        "\n",
        "  def print_queue(self):\n",
        "    print(self.items)"
      ],
      "metadata": {
        "id": "qec4ytNsGArd"
      },
      "execution_count": null,
      "outputs": []
    }
  ]
}